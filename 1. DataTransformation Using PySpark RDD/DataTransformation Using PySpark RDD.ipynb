{
 "cells": [
  {
   "cell_type": "markdown",
   "id": "786cf610-179a-417e-89f7-456b25ce089f",
   "metadata": {},
   "source": [
    "Perform simple data transformation like filtering even numbers from a given list using PySpark RDD"
   ]
  },
  {
   "cell_type": "code",
   "execution_count": 1,
   "id": "e8e501d8-1a29-403e-8894-279135bedfde",
   "metadata": {},
   "outputs": [
    {
     "data": {
      "text/html": [
       "\n",
       "        <div>\n",
       "            <p><b>SparkContext</b></p>\n",
       "\n",
       "            <p><a href=\"http://DELL8141:4040\">Spark UI</a></p>\n",
       "\n",
       "            <dl>\n",
       "              <dt>Version</dt>\n",
       "                <dd><code>v4.0.1</code></dd>\n",
       "              <dt>Master</dt>\n",
       "                <dd><code>local[*]</code></dd>\n",
       "              <dt>AppName</dt>\n",
       "                <dd><code>PySparkShell</code></dd>\n",
       "            </dl>\n",
       "        </div>\n",
       "        "
      ],
      "text/plain": [
       "<SparkContext master=local[*] appName=PySparkShell>"
      ]
     },
     "execution_count": 1,
     "metadata": {},
     "output_type": "execute_result"
    }
   ],
   "source": [
    "sc"
   ]
  },
  {
   "cell_type": "code",
   "execution_count": 3,
   "id": "f4905658-20ce-413b-a16a-57c9f0dc5ad6",
   "metadata": {},
   "outputs": [
    {
     "name": "stdout",
     "output_type": "stream",
     "text": [
      "Original List:\n",
      "[118, 478, 890, 914, 303, 939, 828, 957, 960, 207, 294, 965, 353, 137, 156, 396, 731, 914, 762, 710, 265, 280, 37, 132, 909, 413, 911, 399, 958, 717, 392, 388, 722, 856, 383, 5, 220, 883, 565, 168, 403, 600, 836, 530, 231, 914, 327, 132, 494, 316, 685, 714, 368, 824, 62, 876, 489, 557, 165, 383, 585, 424, 464, 166, 426, 663, 980, 236, 371, 919, 825, 872, 120, 313, 509, 440, 657, 216, 642, 292, 675, 427, 985, 894, 153, 566, 387, 886, 275, 899, 40, 302, 176, 960, 547, 738, 632, 420, 782, 924]\n"
     ]
    }
   ],
   "source": [
    "import random\n",
    "random_numbers = [random.randint(1, 1000) for _ in range(100)]\n",
    "print(\"Original List:\")\n",
    "print(random_numbers)"
   ]
  },
  {
   "cell_type": "code",
   "execution_count": 4,
   "id": "e136b90d-6e9c-45dd-924d-ab72152ae234",
   "metadata": {},
   "outputs": [
    {
     "name": "stdout",
     "output_type": "stream",
     "text": [
      "\n",
      "Even Numbers:\n",
      "[118, 478, 890, 914, 828, 960, 294, 156, 396, 914, 762, 710, 280, 132, 958, 392, 388, 722, 856, 220, 168, 600, 836, 530, 914, 132, 494, 316, 714, 368, 824, 62, 876, 424, 464, 166, 426, 980, 236, 872, 120, 440, 216, 642, 292, 894, 566, 886, 40, 302, 176, 960, 738, 632, 420, 782, 924]\n"
     ]
    }
   ],
   "source": [
    "numbers_rdd = sc.parallelize(random_numbers)\n",
    "even_numbers_rdd = numbers_rdd.filter(lambda x: x % 2 == 0)\n",
    "even_numbers = even_numbers_rdd.collect()\n",
    "print(\"\\nEven Numbers:\")\n",
    "print(even_numbers)"
   ]
  },
  {
   "cell_type": "code",
   "execution_count": null,
   "id": "bcbc1c77-dbec-4b71-9f83-0b263d227463",
   "metadata": {},
   "outputs": [],
   "source": []
  }
 ],
 "metadata": {
  "kernelspec": {
   "display_name": "Python 3 (ipykernel)",
   "language": "python",
   "name": "python3"
  },
  "language_info": {
   "codemirror_mode": {
    "name": "ipython",
    "version": 3
   },
   "file_extension": ".py",
   "mimetype": "text/x-python",
   "name": "python",
   "nbconvert_exporter": "python",
   "pygments_lexer": "ipython3",
   "version": "3.10.6"
  }
 },
 "nbformat": 4,
 "nbformat_minor": 5
}
